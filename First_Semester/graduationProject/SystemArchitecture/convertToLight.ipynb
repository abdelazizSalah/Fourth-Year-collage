{
 "cells": [
  {
   "cell_type": "code",
   "execution_count": null,
   "metadata": {},
   "outputs": [],
   "source": []
  },
  {
   "cell_type": "code",
   "execution_count": 6,
   "metadata": {},
   "outputs": [
    {
     "data": {
      "text/plain": [
       "True"
      ]
     },
     "execution_count": 6,
     "metadata": {},
     "output_type": "execute_result"
    }
   ],
   "source": [
    "import numpy as np\n",
    "import cv2 \n",
    "img = cv2.imread('NavigationArchitecture.png', cv2.IMREAD_GRAYSCALE)\n",
    "\n",
    "def convertBlackWhite(image):\n",
    "    invertedImage = [[1 if pixel == 0 else 0 for pixel in row] for row in image]\n",
    "    return np.array(invertedImage, dtype=np.float64)\n",
    "img = convertBlackWhite(img)\n",
    "cv2.imshow('PNG Image', img)\n",
    "cv2.waitKey(0)\n",
    "cv2.destroyAllWindows()\n",
    "cv2.imwrite('NavigationArchitectureWhite.png', img)\n",
    "\n"
   ]
  },
  {
   "cell_type": "code",
   "execution_count": 7,
   "metadata": {},
   "outputs": [
    {
     "data": {
      "text/plain": [
       "True"
      ]
     },
     "execution_count": 7,
     "metadata": {},
     "output_type": "execute_result"
    }
   ],
   "source": [
    "img = cv2.imread('VSLAMArchitecture.png', cv2.IMREAD_GRAYSCALE)\n",
    "\n",
    "def convertBlackWhite(image):\n",
    "    invertedImage = [[1 if pixel == 0 else 0 for pixel in row] for row in image]\n",
    "    return np.array(invertedImage, dtype=np.float64)\n",
    "img = convertBlackWhite(img)\n",
    "cv2.imshow('PNG Image', img)\n",
    "cv2.waitKey(0)\n",
    "cv2.destroyAllWindows()\n",
    "cv2.imwrite('VSLAMArchitectureWhite.png', img)"
   ]
  }
 ],
 "metadata": {
  "kernelspec": {
   "display_name": "Python 3",
   "language": "python",
   "name": "python3"
  },
  "language_info": {
   "codemirror_mode": {
    "name": "ipython",
    "version": 3
   },
   "file_extension": ".py",
   "mimetype": "text/x-python",
   "name": "python",
   "nbconvert_exporter": "python",
   "pygments_lexer": "ipython3",
   "version": "3.9.13"
  }
 },
 "nbformat": 4,
 "nbformat_minor": 2
}
