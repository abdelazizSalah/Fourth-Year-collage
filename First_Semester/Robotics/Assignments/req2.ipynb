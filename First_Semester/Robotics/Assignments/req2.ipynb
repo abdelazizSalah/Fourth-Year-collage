{
 "cells": [
  {
   "cell_type": "markdown",
   "metadata": {},
   "source": [
    "# Implementing the endpoint model for laser-range measurements\n",
    "* We need to compute the likelihood of the generated laser scan for a 3D-grid of poses (x,y,0)\n",
    "* for each 2D cell of the xy grid of the map, visualize the highest likelihood of all orientation 0 as grey value."
   ]
  },
  {
   "cell_type": "code",
   "execution_count": null,
   "metadata": {},
   "outputs": [],
   "source": []
  }
 ],
 "metadata": {
  "language_info": {
   "name": "python"
  }
 },
 "nbformat": 4,
 "nbformat_minor": 2
}
