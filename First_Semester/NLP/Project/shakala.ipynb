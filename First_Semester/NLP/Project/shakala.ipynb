{
 "cells": [
  {
   "cell_type": "code",
   "execution_count": null,
   "metadata": {},
   "outputs": [],
   "source": [
    "from shakkala import Shakkala"
   ]
  },
  {
   "cell_type": "code",
   "execution_count": null,
   "metadata": {},
   "outputs": [],
   "source": [
    "sh = Shakkala(version = 3)\n",
    "input_text = \"فإن لم يكونا كذلك أتى بما يقتضيه الحال وهذا أولى\"\n",
    "input_int = sh.prepare_input(input_text)\n",
    "model, graph = sh.get_model()\n",
    "logits = model.predict(input_int)[0]\n",
    "predicted_harakat = sh.logits_to_text(logits)\n",
    "final_output = sh.get_final_text(input_text, predicted_harakat)\n"
   ]
  }
 ],
 "metadata": {
  "language_info": {
   "name": "python"
  }
 },
 "nbformat": 4,
 "nbformat_minor": 2
}
